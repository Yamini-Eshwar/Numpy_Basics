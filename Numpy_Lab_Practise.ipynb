{
 "cells": [
  {
   "cell_type": "code",
   "execution_count": 1,
   "id": "84c626a5-75a3-4bd9-a5f4-4952fe287e4d",
   "metadata": {},
   "outputs": [],
   "source": [
    "import numpy as np"
   ]
  },
  {
   "cell_type": "code",
   "execution_count": 3,
   "id": "7365dba7-8665-4a2f-9fdc-4f30522ba4eb",
   "metadata": {},
   "outputs": [
    {
     "data": {
      "text/plain": [
       "array([ 2,  4,  5,  9, 15])"
      ]
     },
     "execution_count": 3,
     "metadata": {},
     "output_type": "execute_result"
    }
   ],
   "source": [
    "np.array([2,4,5,9,15]) #1D array"
   ]
  },
  {
   "cell_type": "code",
   "execution_count": 5,
   "id": "3a4344b4-b9f5-4f15-aa7e-5bcdbf806605",
   "metadata": {},
   "outputs": [
    {
     "name": "stdout",
     "output_type": "stream",
     "text": [
      "[15 15  5  3  7]\n"
     ]
    }
   ],
   "source": [
    "a = np.array([15,15,5,3,7]) #Vector\n",
    "print(a)"
   ]
  },
  {
   "cell_type": "code",
   "execution_count": 7,
   "id": "f4219b13-1a73-4252-8de1-4f0a971910a0",
   "metadata": {},
   "outputs": [
    {
     "data": {
      "text/plain": [
       "numpy.ndarray"
      ]
     },
     "execution_count": 7,
     "metadata": {},
     "output_type": "execute_result"
    }
   ],
   "source": [
    "type(a)"
   ]
  },
  {
   "cell_type": "code",
   "execution_count": 9,
   "id": "1266640f-0ce9-4591-9ba1-eb322869b4ec",
   "metadata": {},
   "outputs": [
    {
     "name": "stdout",
     "output_type": "stream",
     "text": [
      "[[13 14 15]\n",
      " [ 7  9  4]]\n"
     ]
    }
   ],
   "source": [
    "#2D Array (matrix)\n",
    "new  = np.array([[13,14,15],[7,9,4]])\n",
    "print(new)"
   ]
  },
  {
   "cell_type": "code",
   "execution_count": 17,
   "id": "6d9693d8-852a-4bec-8b53-50ca841deb50",
   "metadata": {},
   "outputs": [
    {
     "data": {
      "text/plain": [
       "array([[  1,   2,   3,   4],\n",
       "       [ 48,  78,  96,   1],\n",
       "       [  2,   4,   5,   7],\n",
       "       [  7,   4,   8,   9],\n",
       "       [  2,   2,   2,   1],\n",
       "       [888, 111,  54,   6]])"
      ]
     },
     "execution_count": 17,
     "metadata": {},
     "output_type": "execute_result"
    }
   ],
   "source": [
    "# 3 D....# Tensor \n",
    "np.array([[1,2,3,4],[48,78,96,1],[2,4,5,7],[7,4,8,9],[2,2,2,1],[888,111,54,6]])"
   ]
  },
  {
   "cell_type": "code",
   "execution_count": 19,
   "id": "040df438-42bd-4003-a6b4-17564e27dc53",
   "metadata": {},
   "outputs": [],
   "source": [
    "                     # dtype"
   ]
  },
  {
   "cell_type": "code",
   "execution_count": 21,
   "id": "fd81db1f-b3c5-4d33-be5d-954f8d01e0f8",
   "metadata": {},
   "outputs": [
    {
     "data": {
      "text/plain": [
       "array([11., 23., 25.])"
      ]
     },
     "execution_count": 21,
     "metadata": {},
     "output_type": "execute_result"
    }
   ],
   "source": [
    "                    np.array([11,23,25], dtype=float)"
   ]
  },
  {
   "cell_type": "code",
   "execution_count": 23,
   "id": "5992d72a-c1b2-4970-89e3-992e05f49d8a",
   "metadata": {},
   "outputs": [
    {
     "data": {
      "text/plain": [
       "array([ True,  True,  True])"
      ]
     },
     "execution_count": 23,
     "metadata": {},
     "output_type": "execute_result"
    }
   ],
   "source": [
    "                    np.array([11,12,13], dtype=bool)"
   ]
  },
  {
   "cell_type": "code",
   "execution_count": 25,
   "id": "7fd0d650-cad2-4c80-af64-d5a0af878049",
   "metadata": {},
   "outputs": [
    {
     "data": {
      "text/plain": [
       "array([11.+0.j, 12.+0.j, 13.+0.j])"
      ]
     },
     "execution_count": 25,
     "metadata": {},
     "output_type": "execute_result"
    }
   ],
   "source": [
    "                np.array([11,12,13], dtype=complex)"
   ]
  },
  {
   "cell_type": "code",
   "execution_count": 27,
   "id": "7a51379e-299e-4cd4-baa9-4c6585999147",
   "metadata": {},
   "outputs": [],
   "source": [
    "    #aray  (similar to range function in python)"
   ]
  },
  {
   "cell_type": "code",
   "execution_count": 29,
   "id": "153bd0c0-bbc4-4c33-8d05-0a156f1a57f8",
   "metadata": {},
   "outputs": [
    {
     "data": {
      "text/plain": [
       "array([ 1,  2,  3,  4,  5,  6,  7,  8,  9, 10, 11, 12, 13, 14, 15, 16, 17,\n",
       "       18, 19, 20, 21, 22, 23, 24])"
      ]
     },
     "execution_count": 29,
     "metadata": {},
     "output_type": "execute_result"
    }
   ],
   "source": [
    "    np.arange(1,25)"
   ]
  },
  {
   "cell_type": "code",
   "execution_count": 31,
   "id": "fe27eef6-9bd7-48b0-a3dd-29d0530b3ee1",
   "metadata": {},
   "outputs": [
    {
     "data": {
      "text/plain": [
       "array([ 1,  3,  5,  7,  9, 11, 13, 15, 17, 19, 21, 23])"
      ]
     },
     "execution_count": 31,
     "metadata": {},
     "output_type": "execute_result"
    }
   ],
   "source": [
    "np.arange(1,25,2)  # strides --> alternate numbers"
   ]
  },
  {
   "cell_type": "code",
   "execution_count": 33,
   "id": "c1e86336-3586-4a40-b42a-dc910ed9aa67",
   "metadata": {},
   "outputs": [],
   "source": [
    "                        #reshape"
   ]
  },
  {
   "cell_type": "code",
   "execution_count": 35,
   "id": "a0c29ec4-631c-4cdf-a19b-5aaf18d7e191",
   "metadata": {},
   "outputs": [],
   "source": [
    "#Both of number products should be equal to number of items present inside the array"
   ]
  },
  {
   "cell_type": "code",
   "execution_count": 41,
   "id": "3d41488a-c65e-40d0-9ef0-4f27d00f6fea",
   "metadata": {},
   "outputs": [
    {
     "data": {
      "text/plain": [
       "array([[ 1,  2],\n",
       "       [ 3,  4],\n",
       "       [ 5,  6],\n",
       "       [ 7,  8],\n",
       "       [ 9, 10]])"
      ]
     },
     "execution_count": 41,
     "metadata": {},
     "output_type": "execute_result"
    }
   ],
   "source": [
    "                 np.arange(1,11).reshape(5,2) # converted to 5 rows and 2 columns"
   ]
  },
  {
   "cell_type": "code",
   "execution_count": 43,
   "id": "c234f87f-f6b5-4abc-9729-886e080aef07",
   "metadata": {},
   "outputs": [
    {
     "data": {
      "text/plain": [
       "array([[ 1,  2,  3,  4,  5],\n",
       "       [ 6,  7,  8,  9, 10]])"
      ]
     },
     "execution_count": 43,
     "metadata": {},
     "output_type": "execute_result"
    }
   ],
   "source": [
    "                np.arange(1,11).reshape(2,5) # converted to 2 rows and 5 columns"
   ]
  },
  {
   "cell_type": "code",
   "execution_count": 45,
   "id": "15ef4944-369a-4c8b-9573-c2bfe25a781d",
   "metadata": {},
   "outputs": [
    {
     "data": {
      "text/plain": [
       "array([[ 1,  2,  3,  4],\n",
       "       [ 5,  6,  7,  8],\n",
       "       [ 9, 10, 11, 12]])"
      ]
     },
     "execution_count": 45,
     "metadata": {},
     "output_type": "execute_result"
    }
   ],
   "source": [
    "                np.arange(1,13).reshape(3,4)  #converted to 3 rows and 4 columns"
   ]
  },
  {
   "cell_type": "code",
   "execution_count": 47,
   "id": "6a8d950d-ba51-4bc2-8a4a-cccb563f96a2",
   "metadata": {},
   "outputs": [],
   "source": [
    "                # Ones & Zeros"
   ]
  },
  {
   "cell_type": "code",
   "execution_count": 49,
   "id": "83185efb-4fe9-46a0-ab02-8607cce415f8",
   "metadata": {},
   "outputs": [],
   "source": [
    "#You can initialize values and create values ex: in deep learning weight shape"
   ]
  },
  {
   "cell_type": "code",
   "execution_count": 51,
   "id": "0b5b08db-17d4-4252-962e-4717a615a143",
   "metadata": {},
   "outputs": [
    {
     "data": {
      "text/plain": [
       "array([[1., 1., 1., 1.],\n",
       "       [1., 1., 1., 1.],\n",
       "       [1., 1., 1., 1.]])"
      ]
     },
     "execution_count": 51,
     "metadata": {},
     "output_type": "execute_result"
    }
   ],
   "source": [
    "              np.ones((3,4)) # wehave to mention inside tuple"
   ]
  },
  {
   "cell_type": "code",
   "execution_count": 53,
   "id": "1b1f5742-2925-4b40-b71f-bab41cfe16a2",
   "metadata": {},
   "outputs": [
    {
     "data": {
      "text/plain": [
       "array([[0., 0., 0., 0.],\n",
       "       [0., 0., 0., 0.],\n",
       "       [0., 0., 0., 0.]])"
      ]
     },
     "execution_count": 53,
     "metadata": {},
     "output_type": "execute_result"
    }
   ],
   "source": [
    "               np.zeros((3,4))"
   ]
  },
  {
   "cell_type": "code",
   "execution_count": 67,
   "id": "6c3acb32-80a5-4223-9927-539590253111",
   "metadata": {},
   "outputs": [
    {
     "data": {
      "text/plain": [
       "array([[0.38581786, 0.04521159, 0.29348497, 0.61941584],\n",
       "       [0.21845644, 0.08027804, 0.04240577, 0.07314659],\n",
       "       [0.63844368, 0.42315231, 0.92567886, 0.33668789]])"
      ]
     },
     "execution_count": 67,
     "metadata": {},
     "output_type": "execute_result"
    }
   ],
   "source": [
    "                #Another Type --> random\n",
    "np.random.rand(3,4)"
   ]
  },
  {
   "cell_type": "code",
   "execution_count": 69,
   "id": "4a5d9a64-2963-4370-991c-33d2d39f830e",
   "metadata": {},
   "outputs": [
    {
     "data": {
      "text/plain": [
       "array([-3.65833822e-213, -3.73793276e+061])"
      ]
     },
     "execution_count": 69,
     "metadata": {},
     "output_type": "execute_result"
    }
   ],
   "source": [
    "np.empty(2)"
   ]
  },
  {
   "cell_type": "code",
   "execution_count": 79,
   "id": "7ded312b-759e-4803-b82c-c50a4ad30a3b",
   "metadata": {},
   "outputs": [
    {
     "data": {
      "text/plain": [
       "array([ 0.        ,  0.20408163,  0.40816327,  0.6122449 ,  0.81632653,\n",
       "        1.02040816,  1.2244898 ,  1.42857143,  1.63265306,  1.83673469,\n",
       "        2.04081633,  2.24489796,  2.44897959,  2.65306122,  2.85714286,\n",
       "        3.06122449,  3.26530612,  3.46938776,  3.67346939,  3.87755102,\n",
       "        4.08163265,  4.28571429,  4.48979592,  4.69387755,  4.89795918,\n",
       "        5.10204082,  5.30612245,  5.51020408,  5.71428571,  5.91836735,\n",
       "        6.12244898,  6.32653061,  6.53061224,  6.73469388,  6.93877551,\n",
       "        7.14285714,  7.34693878,  7.55102041,  7.75510204,  7.95918367,\n",
       "        8.16326531,  8.36734694,  8.57142857,  8.7755102 ,  8.97959184,\n",
       "        9.18367347,  9.3877551 ,  9.59183673,  9.79591837, 10.        ])"
      ]
     },
     "execution_count": 79,
     "metadata": {},
     "output_type": "execute_result"
    }
   ],
   "source": [
    "np.linspace(0,10, num=50)"
   ]
  },
  {
   "cell_type": "code",
   "execution_count": 103,
   "id": "389a70ba-86ca-47ec-a245-f6b5a4d9eb5f",
   "metadata": {},
   "outputs": [
    {
     "name": "stdout",
     "output_type": "stream",
     "text": [
      "[1 2 3 4 5 6]\n"
     ]
    }
   ],
   "source": [
    "a = np.array([1,2,3,4,5,6])\n",
    "a.shape\n",
    "print(a)"
   ]
  },
  {
   "cell_type": "code",
   "execution_count": 101,
   "id": "9af75346-74db-440b-9804-04dd5a650dff",
   "metadata": {},
   "outputs": [
    {
     "name": "stdout",
     "output_type": "stream",
     "text": [
      "(1, 6)\n",
      "[[1 2 3 4 5 6]]\n"
     ]
    }
   ],
   "source": [
    "a2 = a[np.newaxis, :]\n",
    "print(a2.shape)\n",
    "print(a2)"
   ]
  },
  {
   "cell_type": "code",
   "execution_count": 99,
   "id": "6c408c15-b526-40d0-962f-8c71ab7b9461",
   "metadata": {},
   "outputs": [
    {
     "name": "stdout",
     "output_type": "stream",
     "text": [
      "[[1]\n",
      " [2]\n",
      " [3]\n",
      " [4]\n",
      " [5]\n",
      " [6]]\n"
     ]
    }
   ],
   "source": [
    "col_vector = a[:, np.newaxis]\n",
    "col_vector.shape\n",
    "print(col_vector)"
   ]
  },
  {
   "cell_type": "code",
   "execution_count": 105,
   "id": "7d87bf98-48bc-46df-a765-98f7cb0062ce",
   "metadata": {},
   "outputs": [
    {
     "data": {
      "text/plain": [
       "(6, 1)"
      ]
     },
     "execution_count": 105,
     "metadata": {},
     "output_type": "execute_result"
    }
   ],
   "source": [
    "b = np.expand_dims(a, axis=1)\n",
    "b.shape"
   ]
  },
  {
   "cell_type": "code",
   "execution_count": null,
   "id": "3e90e394-e381-4ad8-9aa2-3d080bfd8e35",
   "metadata": {},
   "outputs": [],
   "source": [
    "#Indexing, slicing"
   ]
  },
  {
   "cell_type": "code",
   "execution_count": 107,
   "id": "6896d944-b588-454e-b9f5-f6f4547eff05",
   "metadata": {},
   "outputs": [],
   "source": [
    "data= np.array([1,2,3])"
   ]
  },
  {
   "cell_type": "code",
   "execution_count": 109,
   "id": "ae48a1a1-71f8-464f-94b9-0afdb572038c",
   "metadata": {},
   "outputs": [
    {
     "data": {
      "text/plain": [
       "2"
      ]
     },
     "execution_count": 109,
     "metadata": {},
     "output_type": "execute_result"
    }
   ],
   "source": [
    "data[1]"
   ]
  },
  {
   "cell_type": "code",
   "execution_count": 111,
   "id": "385e6a56-3cc5-400a-ad5c-dbfa51397152",
   "metadata": {},
   "outputs": [
    {
     "data": {
      "text/plain": [
       "array([1, 2])"
      ]
     },
     "execution_count": 111,
     "metadata": {},
     "output_type": "execute_result"
    }
   ],
   "source": [
    "data[0:2]"
   ]
  },
  {
   "cell_type": "code",
   "execution_count": 113,
   "id": "88e7bbe7-8432-4c2a-b8c3-b77b348df041",
   "metadata": {},
   "outputs": [
    {
     "data": {
      "text/plain": [
       "array([2, 3])"
      ]
     },
     "execution_count": 113,
     "metadata": {},
     "output_type": "execute_result"
    }
   ],
   "source": [
    "data[1:]"
   ]
  },
  {
   "cell_type": "code",
   "execution_count": 119,
   "id": "8b73a596-901d-4647-b12f-749d5b9717e6",
   "metadata": {},
   "outputs": [
    {
     "data": {
      "text/plain": [
       "array([2, 3])"
      ]
     },
     "execution_count": 119,
     "metadata": {},
     "output_type": "execute_result"
    }
   ],
   "source": [
    "data[-2:]"
   ]
  },
  {
   "cell_type": "markdown",
   "id": "5636e35c-4c0a-4246-94a3-6c4f24706a90",
   "metadata": {},
   "source": [
    "a = np.array([[1,2,3,4],[5,6,7,8],[9,10,11,12]])\n"
   ]
  },
  {
   "cell_type": "code",
   "execution_count": 127,
   "id": "d73c1fc5-31fb-4ee5-acc6-6b54957fb70c",
   "metadata": {},
   "outputs": [
    {
     "name": "stdout",
     "output_type": "stream",
     "text": [
      "[1 2 3 4]\n"
     ]
    }
   ],
   "source": [
    "print(a[a<5])"
   ]
  },
  {
   "cell_type": "code",
   "execution_count": 135,
   "id": "4719a0e8-4b42-4b23-bda4-e35ea9b6a8be",
   "metadata": {},
   "outputs": [
    {
     "name": "stdout",
     "output_type": "stream",
     "text": [
      "[ 2  4  6  8 10 12]\n"
     ]
    }
   ],
   "source": [
    "a = np.array([[1,2,3,4],[5,6,7,8],[9,10,11,12]])\n",
    "divisible_by_2 = a[a%2==0]\n",
    "print(divisible_by_2)"
   ]
  },
  {
   "cell_type": "code",
   "execution_count": 137,
   "id": "d0a17828-3c42-42be-b87b-3d608923c8cf",
   "metadata": {},
   "outputs": [
    {
     "name": "stdout",
     "output_type": "stream",
     "text": [
      "[ 3  4  5  6  7  8  9 10]\n"
     ]
    }
   ],
   "source": [
    "c = a[(a>2) & (a<11)]\n",
    "print(c)"
   ]
  },
  {
   "cell_type": "code",
   "execution_count": 141,
   "id": "791d9762-be9f-4592-8fd6-688e5a350913",
   "metadata": {},
   "outputs": [
    {
     "name": "stdout",
     "output_type": "stream",
     "text": [
      "[[False False False False]\n",
      " [ True  True  True  True]\n",
      " [ True  True  True  True]]\n"
     ]
    }
   ],
   "source": [
    "a = np.array([[1,2,3,4],[5,6,7,8],[9,10,11,12]])\n",
    "five_up = (a>5) | (a==5)\n",
    "print(five_up)"
   ]
  },
  {
   "cell_type": "code",
   "execution_count": null,
   "id": "00e7ca9e-7e22-4027-ba23-9e93bd5909a1",
   "metadata": {},
   "outputs": [],
   "source": []
  },
  {
   "cell_type": "code",
   "execution_count": null,
   "id": "eeee7a70-68d7-4476-90ea-c9875f9091e8",
   "metadata": {},
   "outputs": [],
   "source": []
  },
  {
   "cell_type": "code",
   "execution_count": null,
   "id": "f34e7947-ecee-4dac-8f1a-f4a9a9fe80d7",
   "metadata": {},
   "outputs": [],
   "source": []
  },
  {
   "cell_type": "code",
   "execution_count": null,
   "id": "671827a7-bcd0-4d03-b729-9247999f4343",
   "metadata": {},
   "outputs": [],
   "source": []
  },
  {
   "cell_type": "code",
   "execution_count": null,
   "id": "f4b16662-35e7-41d4-824e-cc1465a708f0",
   "metadata": {},
   "outputs": [],
   "source": []
  }
 ],
 "metadata": {
  "kernelspec": {
   "display_name": "Python [conda env:base] *",
   "language": "python",
   "name": "conda-base-py"
  },
  "language_info": {
   "codemirror_mode": {
    "name": "ipython",
    "version": 3
   },
   "file_extension": ".py",
   "mimetype": "text/x-python",
   "name": "python",
   "nbconvert_exporter": "python",
   "pygments_lexer": "ipython3",
   "version": "3.12.7"
  }
 },
 "nbformat": 4,
 "nbformat_minor": 5
}
